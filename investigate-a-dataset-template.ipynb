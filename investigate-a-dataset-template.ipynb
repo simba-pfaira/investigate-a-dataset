{
 "cells": [
  {
   "cell_type": "markdown",
   "metadata": {},
   "source": [
    "# TMDB Movie Data Analysis\n",
    "> Analysed by Simba Pfaira\n",
    "\n",
    "# Project: Investigate a Dataset - TMDB Movie Dataset\n",
    "\n",
    "## Table of Contents\n",
    "<ul>\n",
    "<li><a href=\"#intro\">Introduction</a></li>\n",
    "<li><a href=\"#wrangling\">Data Wrangling</a></li>\n",
    "<li><a href=\"#eda\">Exploratory Data Analysis</a></li>\n",
    "<li><a href=\"#conclusions\">Conclusions</a></li>\n",
    "</ul>"
   ]
  },
  {
   "cell_type": "markdown",
   "metadata": {},
   "source": [
    "<a id='intro'></a>\n",
    "## Introduction\n",
    "\n",
    "This project will provide an analysis of the movies data from TMDB. I will analyse the data to determine the attributes that are associated with popular movies. I will also perform data cleaning operations to extract the information that is relevant to my project. I will also plot visualizations to illustrate my findings better and in the end i will provide a conclusion of my findings. "
   ]
  },
  {
   "cell_type": "markdown",
   "metadata": {},
   "source": [
    "<a id='qfa'></a>\n",
    "### Question(s) for Analysis\n",
    "##### Data overview\n",
    "The TMDB movie database contains information about over 10000 movies and the attributes of each movie are-: id, imdb_id, popularity, budget, revenue, original_title, cast, homepage, director, tagline, keywords, overview, runtime, genres, production_companies, release_date, vote_count, vote_average, release_year, budget_adj, revenue_adj.\n",
    "\n",
    "##### Questions to ask\n",
    "The type of question I would like to ask from this dataset include-:\n",
    "\n",
    "1. What is the relation betwen the revenue and vote average?\n",
    "1. Which movie has the longest runtime in the data set?\n",
    "1. Which movie has the shortest runtime in the data set?\n",
    "1. Which runtime range has the most sold copies of movies?\n",
    "1. Do movies with higher expenditures also receive higher user rating?"
   ]
  },
  {
   "cell_type": "markdown",
   "metadata": {},
   "source": [
    "### Importing the required modules\n",
    "Firstly I imported the packages I wish to use in my project."
   ]
  },
  {
   "cell_type": "code",
   "execution_count": null,
   "metadata": {},
   "outputs": [],
   "source": [
    "import numpy as np\n",
    "import pandas as pd\n",
    "import matplotlib.pyplot as plt\n",
    "import seaborn as sns\n",
    "%matplotlib inline\n",
    "df = pd.read_csv('tmdb-movies.csv')"
   ]
  },
  {
   "cell_type": "markdown",
   "metadata": {},
   "source": [
    "### Exploring the dataframe\n",
    "#### 1. Data overview\n",
    "> Firstly I read my data file using pandas's `read_csv` function, then I executed the function `head()` to get glimple of the first five columns of the dataframe"
   ]
  },
  {
   "cell_type": "code",
   "execution_count": null,
   "metadata": {
    "collapsed": true
   },
   "outputs": [],
   "source": [
    "df.head()"
   ]
  },
  {
   "cell_type": "markdown",
   "metadata": {},
   "source": [
    "#### 2.  Dimensions of the dataframe\n",
    "> I executed the `.shape` command to find the dimension of the dataframe i.e the number of rows and columns in the data frame"
   ]
  },
  {
   "cell_type": "code",
   "execution_count": null,
   "metadata": {},
   "outputs": [],
   "source": [
    "df.shape"
   ]
  },
  {
   "cell_type": "markdown",
   "metadata": {},
   "source": [
    "#### 3.  Visualization of the dataframe\n",
    "> I executed the `.hist()` function to visualize the data frame."
   ]
  },
  {
   "cell_type": "code",
   "execution_count": null,
   "metadata": {},
   "outputs": [],
   "source": [
    "df.hist(figsize= (10,8));"
   ]
  },
  {
   "cell_type": "markdown",
   "metadata": {},
   "source": [
    "<a id='wrangling'></a>\n",
    "## Data Wrangling\n",
    "### General Properties\n",
    "> I executed the `.info` function to get the data types and the count of cells with data for each column. From this I can see that there are columns which has some blank cells e.g `homepage`, `keywords` e.t.c. This information will be useful for the next step of data cleaning"
   ]
  },
  {
   "cell_type": "code",
   "execution_count": null,
   "metadata": {
    "collapsed": true
   },
   "outputs": [],
   "source": [
    "df.info()"
   ]
  },
  {
   "cell_type": "markdown",
   "metadata": {},
   "source": [
    "### Data Cleaning\n",
    "1. **The first thing i checked for duplicates in my dataframe**"
   ]
  },
  {
   "cell_type": "code",
   "execution_count": null,
   "metadata": {
    "collapsed": true
   },
   "outputs": [],
   "source": [
    "df.duplicated().sum()"
   ]
  },
  {
   "cell_type": "markdown",
   "metadata": {},
   "source": [
    "2. **The code above showed that there is one duplicated entry, so the next step will be to drop the duplicated entry**"
   ]
  },
  {
   "cell_type": "code",
   "execution_count": null,
   "metadata": {},
   "outputs": [],
   "source": [
    "df.drop_duplicates(inplace = True)"
   ]
  },
  {
   "cell_type": "markdown",
   "metadata": {},
   "source": [
    "3. **The next thing, I removed some columns that contains data that I will not use for my project. These columns are-: imdb_id, homepage, tagline, overview, cast, director, production_companies, keywords, budget, revenue and release_date.**"
   ]
  },
  {
   "cell_type": "code",
   "execution_count": null,
   "metadata": {},
   "outputs": [],
   "source": [
    "df.drop(['imdb_id','homepage','budget','revenue','tagline', 'cast', 'director', 'production_companies', 'overview','release_date','keywords'], axis=1, inplace=True)"
   ]
  },
  {
   "cell_type": "code",
   "execution_count": null,
   "metadata": {},
   "outputs": [],
   "source": [
    "df.info()\n",
    "df.head(2)"
   ]
  },
  {
   "cell_type": "markdown",
   "metadata": {},
   "source": [
    "4. **The next think I dropped all the rows with missing values and zero values so that I remain with only rows with all data**"
   ]
  },
  {
   "cell_type": "code",
   "execution_count": null,
   "metadata": {},
   "outputs": [],
   "source": [
    "#remove rows with null values\n",
    "df.replace(0, np.nan, inplace=True)\n",
    "df.dropna(axis = 0, inplace = True)\n",
    "df.shape"
   ]
  },
  {
   "cell_type": "markdown",
   "metadata": {},
   "source": [
    "<a id='eda'></a>\n",
    "## Exploratory Data Analysis"
   ]
  },
  {
   "cell_type": "markdown",
   "metadata": {},
   "source": [
    "Before I start to answer the questions I would create a function to put in some repetitive code that will occur in the source code."
   ]
  },
  {
   "cell_type": "code",
   "execution_count": null,
   "metadata": {},
   "outputs": [],
   "source": [
    "def drawScatterPlot(x_values, y_values, plot_title):\n",
    "    df.plot(x=x_values, y=y_values, title=plot_title, kind='scatter', color='blue' )\n",
    "    plt.show()"
   ]
  },
  {
   "cell_type": "markdown",
   "metadata": {},
   "source": [
    "### Research Question 1\n",
    "**What is the relation betwen the revenue and vote average?**"
   ]
  },
  {
   "cell_type": "code",
   "execution_count": null,
   "metadata": {
    "collapsed": true
   },
   "outputs": [],
   "source": [
    "drawScatterPlot('vote_average', 'revenue_adj', 'Vote Average vs Revenue')"
   ]
  },
  {
   "cell_type": "markdown",
   "metadata": {},
   "source": [
    "The result indicates that there is a positive correlation between revenue and vote average, which suggests that movies that are highly rated by viewers have more revenue than their counterparts."
   ]
  },
  {
   "cell_type": "code",
   "execution_count": null,
   "metadata": {},
   "outputs": [],
   "source": []
  },
  {
   "cell_type": "markdown",
   "metadata": {},
   "source": [
    "### Research Question 2\n",
    "**Which movie has the longest runtime in the data set?**"
   ]
  },
  {
   "cell_type": "code",
   "execution_count": null,
   "metadata": {
    "collapsed": true
   },
   "outputs": [],
   "source": [
    "df_longest = df[df.runtime == df.runtime.max()]\n",
    "print(df_longest)\n"
   ]
  },
  {
   "cell_type": "markdown",
   "metadata": {},
   "source": [
    "The analysis reveals that the longest movie is called `Carlos` which has a runtime of `338` minutes"
   ]
  },
  {
   "cell_type": "markdown",
   "metadata": {},
   "source": [
    "### Research Question 3\n",
    "**Which movie has the shortest runtime in the data set?**"
   ]
  },
  {
   "cell_type": "code",
   "execution_count": null,
   "metadata": {},
   "outputs": [],
   "source": [
    "df_shortest = df[df.runtime == df.runtime.min()]\n",
    "print(df_shortest)"
   ]
  },
  {
   "cell_type": "markdown",
   "metadata": {},
   "source": [
    "The result indicates that the shortest movie is `Kid's Story` which has a runtime of `15` minutes."
   ]
  },
  {
   "cell_type": "markdown",
   "metadata": {},
   "source": [
    "### Research Question 4\n",
    "**In which year were the most movies released?**"
   ]
  },
  {
   "cell_type": "code",
   "execution_count": null,
   "metadata": {},
   "outputs": [],
   "source": [
    "plt.figure(figsize=(30,10))\n",
    "sns.countplot(df['release_year'])\n",
    "plt.title('Movies by year')\n",
    "plt.xlabel('Year')\n",
    "plt.ylabel('Quantity')\n",
    "plt.show()"
   ]
  },
  {
   "cell_type": "markdown",
   "metadata": {},
   "source": [
    "The analysis shows that most movies were released in `2011`."
   ]
  },
  {
   "cell_type": "markdown",
   "metadata": {},
   "source": [
    "### Research Question 5\n",
    "**Which runtime range has the most sold copies of movies?**"
   ]
  },
  {
   "cell_type": "code",
   "execution_count": null,
   "metadata": {},
   "outputs": [],
   "source": [
    "df.groupby('runtime')['revenue_adj'].mean().plot(kind='line');\n",
    "plt.title('Revenue vs Runtime')\n",
    "plt.ylabel('Revenue $')\n",
    "plt.xlabel('Runtime')\n",
    "plt.show()"
   ]
  },
  {
   "cell_type": "markdown",
   "metadata": {},
   "source": [
    "The analysis shows that movies which sold most copies has a runtime of `180` to `190` minutes."
   ]
  },
  {
   "cell_type": "markdown",
   "metadata": {},
   "source": [
    "### Research Question 6\n",
    "**Do movies with higher expenditures also receive higher user rating?**"
   ]
  },
  {
   "cell_type": "code",
   "execution_count": null,
   "metadata": {},
   "outputs": [],
   "source": [
    "drawScatterPlot('vote_average', 'budget_adj', 'Vote Average vs Expenditures')"
   ]
  },
  {
   "cell_type": "markdown",
   "metadata": {},
   "source": [
    "This scatter plot illustrates a positive correlation, which means that movies where higher costs were incurred are also rated high by users."
   ]
  },
  {
   "cell_type": "markdown",
   "metadata": {},
   "source": [
    "<a id='conclusions'></a>\n",
    "## Conclusions\n",
    "\n",
    "> In this project, I was able to analyze the movie dataset, by assising the qualities, attributes and properties that are associated with movies provided. After gathering the data, I went on to clean and trim the dataset by removing zero and duplicated values and other columns which were irrelevant to my research questions.\n",
    "\n",
    "> Then I answered the few of the questions I had, using pandas. I also plotted a few charts to visualize the results. The main attribute I used in the plots was `vote_average`. In those visualization I discovered that-: a. movies where higher costs were incurred are also rated high by users, b. movies that are highly rated by viewers have more revenue than their counterparts."
   ]
  },
  {
   "cell_type": "markdown",
   "metadata": {},
   "source": [
    "## Limitations\n",
    "* There were many rows with columns with zero values which I dropped which casued me to loose 50% of the dataset. This means that the results I came up may not fully represent the whole dataset. If all values were thee it would have been more accurate.\n",
    "* This dataset is not really an adequate representation of the movies industry since there are many movies which were released from other countries which doesnt appear in the dataset."
   ]
  },
  {
   "cell_type": "markdown",
   "metadata": {},
   "source": [
    "### References\n",
    "1. [How to add a new column to an existing DataFrame?](https://stackoverflow.com/questions/12555323/how-to-add-a-new-column-to-an-existing-dataframe?rq=1)\n",
    "1. [How do I get the row count of a Pandas DataFrame?](https://stackoverflow.com/questions/15943769/how-do-i-get-the-row-count-of-a-pandas-dataframe?rq=1)\n",
    "1. [How do I select rows from a DataFrame based on column values?](https://stackoverflow.com/questions/17071871/how-do-i-select-rows-from-a-dataframe-based-on-column-values?rq=1)"
   ]
  }
 ],
 "metadata": {
  "kernelspec": {
   "display_name": "Python [default]",
   "language": "python",
   "name": "python3"
  },
  "language_info": {
   "codemirror_mode": {
    "name": "ipython",
    "version": 3
   },
   "file_extension": ".py",
   "mimetype": "text/x-python",
   "name": "python",
   "nbconvert_exporter": "python",
   "pygments_lexer": "ipython3",
   "version": "3.5.3"
  }
 },
 "nbformat": 4,
 "nbformat_minor": 2
}
